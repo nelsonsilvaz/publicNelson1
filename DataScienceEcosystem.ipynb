{
 "cells": [
  {
   "cell_type": "markdown",
   "id": "7150f20d-6b55-4946-bfcd-6ce6e9289242",
   "metadata": {},
   "source": [
    "# Data Science Tools and Ecosystem"
   ]
  },
  {
   "cell_type": "markdown",
   "id": "b1f66c88-b182-47a1-a0cd-166c7c96fcd6",
   "metadata": {},
   "source": [
    "In this notebook, Data Science Tools and Ecosystem are summarized."
   ]
  },
  {
   "cell_type": "markdown",
   "id": "ea5feb25-39c6-4eac-a9a9-05cf18f3d10b",
   "metadata": {},
   "source": [
    "*Objectives:*\n",
    "* List popular languages for Data Science\n",
    "* Describe data sets and sources of data\n",
    "* Describe how to use a learning model to solve a problem.\n",
    "* List the tasks that a data scientist needs to perform to build a model."
   ]
  },
  {
   "cell_type": "markdown",
   "id": "862386a9-6fe6-4ac5-a9e4-113171b0e1fe",
   "metadata": {},
   "source": [
    "Some of the popular languages that Data Scientists use are:\n",
    "1. Python\n",
    "2. R\n",
    "3. SQL\n",
    "4. C++"
   ]
  },
  {
   "cell_type": "markdown",
   "id": "d0f8f5d7-aec8-4cf4-9253-ec29584792e3",
   "metadata": {},
   "source": [
    "Some of the commonly used libraries used by Data Scientists include:\n",
    "1. NumPy\n",
    "2. SciPy\n",
    "3. Tensorflow\n",
    "4. Matplotlib"
   ]
  },
  {
   "cell_type": "markdown",
   "id": "cad68940-49f6-4633-9282-b3009c19b887",
   "metadata": {},
   "source": [
    "| Data Science Tools |\n",
    "----------------------\n",
    "| RStudio            |\n",
    "| Apache Spark       |\n",
    "| TensorFlow         |\n",
    "| Apache Hadoop      |\n"
   ]
  },
  {
   "cell_type": "markdown",
   "id": "4dd009c7-c9d8-4355-8d5c-efe8ac11b248",
   "metadata": {},
   "source": [
    "### Below are a few examples of evaluating arithmetic expressions in Python"
   ]
  },
  {
   "cell_type": "code",
   "execution_count": 1,
   "id": "1c0885ca-a33c-48d1-bbdb-f642ea4f99a0",
   "metadata": {
    "tags": []
   },
   "outputs": [
    {
     "data": {
      "text/plain": [
       "17"
      ]
     },
     "execution_count": 1,
     "metadata": {},
     "output_type": "execute_result"
    }
   ],
   "source": [
    "#This a simple arithmetic expression to mutiply then add integers\n",
    "(3*4)+5"
   ]
  },
  {
   "cell_type": "code",
   "execution_count": 2,
   "id": "95d47b77-4c7c-4a8c-91fe-68d293fad0df",
   "metadata": {
    "tags": []
   },
   "outputs": [
    {
     "data": {
      "text/plain": [
       "3.3333333333333335"
      ]
     },
     "execution_count": 2,
     "metadata": {},
     "output_type": "execute_result"
    }
   ],
   "source": [
    "#This will convert 200 minutes to hours by diving by 60\n",
    "200/60\n"
   ]
  },
  {
   "cell_type": "markdown",
   "id": "1e12a28d-da2d-403d-82a4-9a2b9cdfb52e",
   "metadata": {},
   "source": [
    "## Author\n",
    "Nelson Silva"
   ]
  },
  {
   "cell_type": "code",
   "execution_count": null,
   "id": "de3c072c-2015-450c-9c63-72058abd2be9",
   "metadata": {},
   "outputs": [],
   "source": []
  }
 ],
 "metadata": {
  "kernelspec": {
   "display_name": "Python",
   "language": "python",
   "name": "conda-env-python-py"
  },
  "language_info": {
   "codemirror_mode": {
    "name": "ipython",
    "version": 3
   },
   "file_extension": ".py",
   "mimetype": "text/x-python",
   "name": "python",
   "nbconvert_exporter": "python",
   "pygments_lexer": "ipython3",
   "version": "3.7.12"
  }
 },
 "nbformat": 4,
 "nbformat_minor": 5
}
